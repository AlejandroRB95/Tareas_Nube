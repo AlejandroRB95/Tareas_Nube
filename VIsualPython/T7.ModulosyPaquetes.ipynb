{
 "cells": [
  {
   "cell_type": "markdown",
   "metadata": {},
   "source": [
    "## Tema 7. Módulos y Paquetes\n",
    "\n",
    "Es un archivo que contiene definiciones y declaraciones de Python. El nombre del archivo siempre tiene que ir con el sufijo .py"
   ]
  },
  {
   "cell_type": "code",
   "execution_count": null,
   "metadata": {},
   "outputs": [],
   "source": [
    "import operaciones as op "
   ]
  },
  {
   "cell_type": "code",
   "execution_count": null,
   "metadata": {},
   "outputs": [],
   "source": [
    "import operaciones\n",
    "\n",
    "resultado = operaciones.suma(5, 3)\n",
    "print(resultado)  # Imprimirá 8"
   ]
  },
  {
   "cell_type": "markdown",
   "metadata": {},
   "source": [
    "### 2. Importación de módulos"
   ]
  },
  {
   "cell_type": "code",
   "execution_count": null,
   "metadata": {},
   "outputs": [],
   "source": [
    "import operaciones"
   ]
  },
  {
   "cell_type": "markdown",
   "metadata": {},
   "source": [
    "### Importación de funciones específicas:\n",
    "\n"
   ]
  },
  {
   "cell_type": "code",
   "execution_count": null,
   "metadata": {},
   "outputs": [],
   "source": [
    "from operaciones import suma, resta"
   ]
  },
  {
   "cell_type": "markdown",
   "metadata": {},
   "source": [
    "### Renombrar módulos o funciones al importar:\n",
    "\n"
   ]
  },
  {
   "cell_type": "code",
   "execution_count": null,
   "metadata": {},
   "outputs": [],
   "source": [
    "import operaciones as ops"
   ]
  },
  {
   "cell_type": "markdown",
   "metadata": {},
   "source": [
    "##### Ejercicio práctico 1: Crea un módulo llamado calculos que contenga funciones para calcular el área de diferentes figuras geométricas. Luego, importa ese módulo y utiliza sus funciones."
   ]
  },
  {
   "cell_type": "code",
   "execution_count": null,
   "metadata": {},
   "outputs": [],
   "source": [
    "import math\n",
    "\n",
    "# calculos.py\n",
    "def area_cuadrado(lado):\n",
    "    return lado * lado\n",
    "\n",
    "def area_rectangulo(base, altura):\n",
    "    return base * altura\n",
    "\n",
    "def area_circulo(radio):\n",
    "    return math.pi * radio * radio"
   ]
  },
  {
   "cell_type": "markdown",
   "metadata": {},
   "source": [
    "#### Ejercicio práctico 2: Crea un paquete llamado matematicas con módulos separados para operaciones básicas y avanzadas. Luego, utiliza funciones de ambos módulos."
   ]
  },
  {
   "cell_type": "code",
   "execution_count": null,
   "metadata": {},
   "outputs": [],
   "source": [
    "import math\n",
    "\n",
    "# Estructura de directorios:\n",
    "# matematicas/\n",
    "# ├── __init__.py\n",
    "# ├── basicas.py\n",
    "# └── avanzadas.py\n",
    "\n",
    "# matematicas/__init__.py\n",
    "# Este archivo puede estar vacío o contener inicialización del paquete\n",
    "\n",
    "# matematicas/basicas.py\n",
    "def suma(a, b):\n",
    "    return a + b\n",
    "\n",
    "def resta(a, b):\n",
    "    return a - b\n",
    "\n",
    "# matematicas/avanzadas.py\n",
    "\n",
    "def raiz_cuadrada(x):\n",
    "    return math.sqrt(x)\n",
    "\n",
    "def potencia(base, exponente):\n",
    "    return math.pow(base, exponente)"
   ]
  }
 ],
 "metadata": {
  "language_info": {
   "name": "python"
  }
 },
 "nbformat": 4,
 "nbformat_minor": 2
}
