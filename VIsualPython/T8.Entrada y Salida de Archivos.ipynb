{
 "cells": [
  {
   "cell_type": "markdown",
   "metadata": {},
   "source": [
    "### Entrada y salida de archivos"
   ]
  },
  {
   "cell_type": "code",
   "execution_count": 12,
   "metadata": {},
   "outputs": [],
   "source": [
    "archivo = open(\"ejemplo.txt\", \"r\")\n",
    "archivo = open(\"hola.txt\", \"r\")"
   ]
  },
  {
   "cell_type": "code",
   "execution_count": 6,
   "metadata": {},
   "outputs": [
    {
     "name": "stdout",
     "output_type": "stream",
     "text": [
      "wdawdawdwa\n"
     ]
    }
   ],
   "source": [
    "contenido = archivo.read()\n",
    "print(contenido)"
   ]
  },
  {
   "cell_type": "code",
   "execution_count": 10,
   "metadata": {},
   "outputs": [],
   "source": [
    "archivo = open(\"hola.txt\", \"a\")\n",
    "archivo.write(\"Hola mundo\\n\")\n",
    "archivo.close()"
   ]
  },
  {
   "cell_type": "code",
   "execution_count": 4,
   "metadata": {},
   "outputs": [],
   "source": [
    "archivo = open(\"ejemplo.txt\", \"w\")"
   ]
  },
  {
   "cell_type": "code",
   "execution_count": null,
   "metadata": {},
   "outputs": [],
   "source": [
    "archivo = open(\"ejemplo.txt\", \"a\")"
   ]
  },
  {
   "cell_type": "code",
   "execution_count": null,
   "metadata": {},
   "outputs": [],
   "source": [
    "nueva_tarea = input(\"Ingrese la nueva tarea: \")\n",
    "\n",
    "with open(\"tareas.txt\", \"a\") as archivo:\n",
    "    archivo.write(nueva_tarea + \"\\n\")"
   ]
  },
  {
   "cell_type": "markdown",
   "metadata": {},
   "source": [
    "##### Crear un sistema que pida N cantidad de tareas y se cierre si se detecta un numero. Al final debe mostrar todo lo que se añadió."
   ]
  },
  {
   "cell_type": "code",
   "execution_count": null,
   "metadata": {},
   "outputs": [
    {
     "name": "stdout",
     "output_type": "stream",
     "text": [
      "Tareas añadidas:\n",
      "hacer la cama\n",
      "comprar comida\n",
      "ver la f1\n",
      "waos\n"
     ]
    }
   ],
   "source": [
    "tareas = []\n",
    "\n",
    "while True:\n",
    "    nueva_tarea = input(\"Ingresa tus tareas pendientes. Escribe un número para salir: \")\n",
    "    try:\n",
    "        float(nueva_tarea)\n",
    "        break\n",
    "    except ValueError:\n",
    "        tareas.append(nueva_tarea)\n",
    "\n",
    "with open(\"tareas.txt\", \"a\") as archivo:\n",
    "    for tarea in tareas:\n",
    "        archivo.write(tarea + \"\\n\")\n",
    "\n",
    "print(\"Tareas añadidas:\")\n",
    "for tarea in tareas:\n",
    "    print(tarea)\n"
   ]
  },
  {
   "cell_type": "code",
   "execution_count": null,
   "metadata": {},
   "outputs": [],
   "source": []
  }
 ],
 "metadata": {
  "kernelspec": {
   "display_name": "Python 3",
   "language": "python",
   "name": "python3"
  },
  "language_info": {
   "codemirror_mode": {
    "name": "ipython",
    "version": 3
   },
   "file_extension": ".py",
   "mimetype": "text/x-python",
   "name": "python",
   "nbconvert_exporter": "python",
   "pygments_lexer": "ipython3",
   "version": "3.13.0"
  }
 },
 "nbformat": 4,
 "nbformat_minor": 2
}
