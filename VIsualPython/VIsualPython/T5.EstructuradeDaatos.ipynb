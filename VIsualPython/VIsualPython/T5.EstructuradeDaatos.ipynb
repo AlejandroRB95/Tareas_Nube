{
 "cells": [
  {
   "cell_type": "markdown",
   "metadata": {},
   "source": [
    "### LISTAS"
   ]
  },
  {
   "cell_type": "code",
   "execution_count": null,
   "metadata": {},
   "outputs": [],
   "source": [
    "# Crear una lista con algunos elementos\n",
    "mi_lista = [1, 2, 3, 4, 5]\n",
    "\n",
    "# Imprimir la lista\n",
    "print(mi_lista)\n",
    "\n",
    "# Acceder a un elemento de la lista\n",
    "print(mi_lista[0])  # Imprime el primer elemento\n",
    "\n",
    "# Modificar un elemento de la lista\n",
    "mi_lista[1] = 10\n",
    "print(mi_lista)\n",
    "\n",
    "# Agregar un elemento al final de la lista\n",
    "mi_lista.append(6)\n",
    "print(mi_lista)\n",
    "\n",
    "# Eliminar un elemento de la lista\n",
    "mi_lista.remove(3)\n",
    "print(mi_lista)"
   ]
  },
  {
   "cell_type": "markdown",
   "metadata": {},
   "source": [
    "### TUPLA"
   ]
  },
  {
   "cell_type": "code",
   "execution_count": null,
   "metadata": {},
   "outputs": [],
   "source": [
    "# Crear una tupla con algunos elementos\n",
    "ejemplo_tupla = (10, 20, 30, 40, 50)\n",
    "\n",
    "# Imprimir la tupla\n",
    "print(ejemplo_tupla)\n",
    "\n",
    "# Acceder a un elemento de la tupla\n",
    "print(ejemplo_tupla[0])  # Imprime el primer elemento\n"
   ]
  },
  {
   "cell_type": "code",
   "execution_count": 1,
   "metadata": {},
   "outputs": [],
   "source": [
    "colores = (\"rojo\",\"verde\",\"azul\")"
   ]
  },
  {
   "cell_type": "code",
   "execution_count": 2,
   "metadata": {},
   "outputs": [
    {
     "name": "stdout",
     "output_type": "stream",
     "text": [
      "rojo\n"
     ]
    }
   ],
   "source": [
    "print(colores[0])"
   ]
  },
  {
   "cell_type": "markdown",
   "metadata": {},
   "source": [
    "### 3. Sets"
   ]
  },
  {
   "cell_type": "code",
   "execution_count": 3,
   "metadata": {},
   "outputs": [],
   "source": [
    "animales = {\"gato\", \"perro\", \"pez\"}"
   ]
  },
  {
   "cell_type": "code",
   "execution_count": 4,
   "metadata": {},
   "outputs": [
    {
     "name": "stdout",
     "output_type": "stream",
     "text": [
      "True\n"
     ]
    }
   ],
   "source": [
    "print(\"gato\" in animales)"
   ]
  },
  {
   "cell_type": "markdown",
   "metadata": {},
   "source": [
    "### 4. Diccionarios"
   ]
  },
  {
   "cell_type": "code",
   "execution_count": 5,
   "metadata": {},
   "outputs": [],
   "source": [
    "persona = {\n",
    "    \"nombre\": \"Alejandro\",\n",
    "    \"edad\": 23,\n",
    "    \"ciudad\": \"Cancun\"\n",
    "}"
   ]
  },
  {
   "cell_type": "code",
   "execution_count": 6,
   "metadata": {},
   "outputs": [
    {
     "name": "stdout",
     "output_type": "stream",
     "text": [
      "Alejandro\n"
     ]
    }
   ],
   "source": [
    "print(persona[\"nombre\"])\n",
    "persona[\"edad\"] = 26"
   ]
  },
  {
   "cell_type": "markdown",
   "metadata": {},
   "source": [
    "### INVESTIGA 10 METODOS PARA LOS DISTINTOS TIPOS DE ARREGLO"
   ]
  },
  {
   "cell_type": "markdown",
   "metadata": {},
   "source": [
    "##### LISTAS"
   ]
  },
  {
   "cell_type": "code",
   "execution_count": null,
   "metadata": {},
   "outputs": [],
   "source": [
    "# 1. append(x): Agrega un elemento al final de la lista.\n",
    "lista = [1, 2, 3]\n",
    "lista.append(4)  \n",
    "\n",
    "# 2. extend(iterable): Extiende la lista agregando todos los elementos de un iterable.\n",
    "lista = [1, 2, 3]\n",
    "lista.extend([4, 5]) \n",
    "\n",
    "# 3. insert(i, x): Inserta un elemento en una posición específica.\n",
    "lista = [1, 2, 3]\n",
    "lista.insert(1, 4)  # [1, 4, 2, 3]\n",
    "\n",
    "# 4. remove(x): Elimina el primer elemento de la lista cuyo valor sea x.\n",
    "lista = [1, 2, 3, 2]\n",
    "lista.remove(2)  # [1, 3, 2]\n",
    "\n",
    "# 5 pop([i]): Elimina el elemento en la posición dada (por defecto, el último).\n",
    "lista = [1, 2, 3]\n",
    "lista.pop()  # 3, lista ahora es [1, 2]\n",
    "\n",
    "# 6 clear(): Elimina todos los elementos de la lista.\n",
    "lista = [1, 2, 3]\n",
    "lista.clear()  # []\n",
    "\n",
    "# 7. index(x[, start[, end]]): Devuelve el índice del primer elemento cuyo valor sea x.\n",
    "lista = [1, 2, 3]\n",
    "lista.index(2) \n",
    "\n",
    "# 8. count(x): Devuelve cuántas veces aparece x en la lista.\n",
    "lista = [1, 2, 2, 3]\n",
    "lista.count(2) \n",
    "\n",
    "# 9.sort(key=None, reverse=False): Ordena los elementos de la lista.\n",
    "lista = [3, 1, 2]\n",
    "lista.sort()  # [1, 2, 3]\n",
    "# 10. reverse(): Invierte el orden de los elementos de la lista\n",
    "\n",
    "lista = [1, 2, 3]\n",
    "lista.reverse()  # [3, 2, 1]\n",
    "\n",
    "\n",
    "\n",
    "\n",
    "\n"
   ]
  },
  {
   "cell_type": "markdown",
   "metadata": {},
   "source": [
    "##### TUPLAS"
   ]
  },
  {
   "cell_type": "code",
   "execution_count": null,
   "metadata": {},
   "outputs": [],
   "source": [
    "# 1. len(): Devuelve la longitud de la tupla.\n",
    "tupla = (1, 2, 3)\n",
    "print(len(tupla))  # 3\n",
    "\n",
    "# 2. count(x): Devuelve cuántas veces aparece x en la tupla.\n",
    "tupla = (1, 2, 2, 3)\n",
    "print(tupla.count(2))  # 2\n",
    "\n",
    "# 3. index(x): Devuelve el índice del primer elemento cuyo valor sea x.\n",
    "tupla = (1, 2, 3)\n",
    "print(tupla.index(2))  # 1\n",
    "\n",
    "# 4. Concatenación: Puedes concatenar dos o más tuplas usando el operador +.\n",
    "tupla1 = (1, 2)\n",
    "tupla2 = (3, 4)\n",
    "tupla3 = tupla1 + tupla2\n",
    "print(tupla3)  # (1, 2, 3, 4)\n",
    "\n",
    "# 5. Repetición: Puedes repetir una tupla usando el operador *.\n",
    "tupla = (1, 2)\n",
    "print(tupla * 3)  # (1, 2, 1, 2, 1, 2)\n",
    "\n",
    "# 6. Verificación de membresía: Puedes verificar si un elemento está en la tupla usando el operador in.\n",
    "tupla = (1, 2, 3)\n",
    "print(2 in tupla)  # True\n",
    "\n",
    "# 7. Slicing: Puedes obtener una sub-tupla usando el operador de slicing.\n",
    "tupla = (1, 2, 3, 4)\n",
    "print(tupla[1:3])  # (2, 3)\n",
    "\n",
    "# 8. Desempaquetado: Puedes desempaquetar los elementos de una tupla en variables individuales.\n",
    "tupla = (1, 2, 3)\n",
    "a, b, c = tupla\n",
    "print(a, b, c)  # 1 2 3\n",
    "\n",
    "# 9. Conversión a lista: Puedes convertir una tupla en una lista usando la función list().\n",
    "tupla = (1, 2, 3)\n",
    "lista = list(tupla)\n",
    "print(lista)  # [1, 2, 3]\n",
    "\n",
    "# 10. Iteración: Puedes iterar sobre los elementos de una tupla usando un bucle for.\n",
    "tupla = (1, 2, 3)\n",
    "for elemento in tupla:\n",
    "    print(elemento)\n",
    "# 1\n",
    "# 2\n",
    "# 3"
   ]
  },
  {
   "cell_type": "markdown",
   "metadata": {},
   "source": [
    "### SETS"
   ]
  },
  {
   "cell_type": "code",
   "execution_count": null,
   "metadata": {},
   "outputs": [],
   "source": [
    "# 1. add(x): Agrega un elemento al conjunto.\n",
    "conjunto = {1, 2, 3}\n",
    "conjunto.add(4)\n",
    "print(conjunto)  # {1, 2, 3, 4}\n",
    "\n",
    "# 2. remove(x): Elimina un elemento del conjunto. Genera un error si el elemento no está presente.\n",
    "conjunto = {1, 2, 3}\n",
    "conjunto.remove(2)\n",
    "print(conjunto)  # {1, 3}\n",
    "\n",
    "# 3. discard(x): Elimina un elemento del conjunto si está presente. No genera error si el elemento no está presente.\n",
    "conjunto = {1, 2, 3}\n",
    "conjunto.discard(2)\n",
    "print(conjunto)  # {1, 3}\n",
    "\n",
    "# 4. pop(): Elimina y devuelve un elemento aleatorio del conjunto.\n",
    "conjunto = {1, 2, 3}\n",
    "elemento = conjunto.pop()\n",
    "print(elemento)  # 1 (por ejemplo)\n",
    "print(conjunto)  # {2, 3}\n",
    "\n",
    "# 5. clear(): Elimina todos los elementos del conjunto.\n",
    "conjunto = {1, 2, 3}\n",
    "conjunto.clear()\n",
    "print(conjunto)  # set()\n",
    "\n",
    "# 6. union(*otros): Devuelve la unión de conjuntos.\n",
    "conjunto1 = {1, 2, 3}\n",
    "conjunto2 = {3, 4, 5}\n",
    "union = conjunto1.union(conjunto2)\n",
    "print(union)  # {1, 2, 3, 4, 5}\n",
    "\n",
    "# 7. intersection(*otros): Devuelve la intersección de conjuntos.\n",
    "conjunto1 = {1, 2, 3}\n",
    "conjunto2 = {2, 3, 4}\n",
    "interseccion = conjunto1.intersection(conjunto2)\n",
    "print(interseccion)  # {2, 3}\n",
    "\n",
    "# 8. difference(*otros): Devuelve la diferencia de conjuntos.\n",
    "conjunto1 = {1, 2, 3}\n",
    "conjunto2 = {2, 3, 4}\n",
    "diferencia = conjunto1.difference(conjunto2)\n",
    "print(diferencia)  # {1}\n",
    "\n",
    "# 9. symmetric_difference(otro): Devuelve la diferencia simétrica de conjuntos.\n",
    "conjunto1 = {1, 2, 3}\n",
    "conjunto2 = {2, 3, 4}\n",
    "diferencia_simetrica = conjunto1.symmetric_difference(conjunto2)\n",
    "print(diferencia_simetrica)  # {1, 4}\n",
    "\n",
    "# 10. issubset(otro): Devuelve True si el conjunto es un subconjunto del otro conjunto.\n",
    "conjunto1 = {1, 2}\n",
    "conjunto2 = {1, 2, 3}\n",
    "es_subconjunto = conjunto1.issubset(conjunto2)\n",
    "print(es_subconjunto)  # True"
   ]
  },
  {
   "cell_type": "markdown",
   "metadata": {},
   "source": [
    "### DICCIONARIOS"
   ]
  },
  {
   "cell_type": "code",
   "execution_count": null,
   "metadata": {},
   "outputs": [],
   "source": [
    "# 1. keys(): Devuelve una vista de las claves del diccionario.\n",
    "diccionario = {\"a\": 1, \"b\": 2, \"c\": 3}\n",
    "print(diccionario.keys())  # dict_keys(['a', 'b', 'c'])\n",
    "\n",
    "# 2. values(): Devuelve una vista de los valores del diccionario.\n",
    "print(diccionario.values())  # dict_values([1, 2, 3])\n",
    "\n",
    "# 3. items(): Devuelve una vista de los pares clave-valor del diccionario.\n",
    "print(diccionario.items())  # dict_items([('a', 1), ('b', 2), ('c', 3)])\n",
    "\n",
    "# 4. get(clave[, valor_predeterminado]): Devuelve el valor de la clave. Si la clave no existe, devuelve valor_predeterminado.\n",
    "print(diccionario.get(\"a\"))  # 1\n",
    "print(diccionario.get(\"d\", \"No encontrado\"))  # No encontrado\n",
    "\n",
    "# 5. pop(clave[, valor_predeterminado]): Elimina la clave y devuelve su valor. Si la clave no existe, devuelve valor_predeterminado.\n",
    "print(diccionario.pop(\"b\"))  # 2\n",
    "print(diccionario)  # {'a': 1, 'c': 3}\n",
    "\n",
    "# 6. popitem(): Elimina y devuelve el último par clave-valor insertado.\n",
    "print(diccionario.popitem())  # ('c', 3)\n",
    "print(diccionario)  # {'a': 1}\n",
    "\n",
    "# 7. update([otros]): Actualiza el diccionario con los pares clave-valor de otros, sobrescribiendo las claves existentes.\n",
    "diccionario.update({\"d\": 4, \"e\": 5})\n",
    "print(diccionario)  # {'a': 1, 'd': 4, 'e': 5}\n",
    "\n",
    "# 8. clear(): Elimina todos los elementos del diccionario.\n",
    "diccionario.clear()\n",
    "print(diccionario)  # {}\n",
    "\n",
    "# 9. copy(): Devuelve una copia superficial del diccionario.\n",
    "diccionario = {\"a\": 1, \"b\": 2, \"c\": 3}\n",
    "copia_diccionario = diccionario.copy()\n",
    "print(copia_diccionario)  # {'a': 1, 'b': 2, 'c': 3}\n",
    "\n",
    "# 10. fromkeys(iterable[, valor]): Crea un nuevo diccionario con claves de iterable y valores establecidos en valor.\n",
    "nuevas_claves = [\"x\", \"y\", \"z\"]\n",
    "nuevo_diccionario = dict.fromkeys(nuevas_claves, 0)\n",
    "print(nuevo_diccionario)  # {'x': 0, 'y': 0, 'z': 0}"
   ]
  }
 ],
 "metadata": {
  "kernelspec": {
   "display_name": "Python 3",
   "language": "python",
   "name": "python3"
  },
  "language_info": {
   "codemirror_mode": {
    "name": "ipython",
    "version": 3
   },
   "file_extension": ".py",
   "mimetype": "text/x-python",
   "name": "python",
   "nbconvert_exporter": "python",
   "pygments_lexer": "ipython3",
   "version": "3.13.0"
  }
 },
 "nbformat": 4,
 "nbformat_minor": 2
}
