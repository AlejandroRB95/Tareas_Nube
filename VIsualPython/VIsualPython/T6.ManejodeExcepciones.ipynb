{
 "cells": [
  {
   "cell_type": "markdown",
   "metadata": {},
   "source": [
    "##### Ejercicio práctico 1: escribe un programa que solicite al usuario dos números y muestre la división de ambos, manejando posibles erores."
   ]
  },
  {
   "cell_type": "code",
   "execution_count": null,
   "metadata": {},
   "outputs": [],
   "source": [
    "try:\n",
    "    n1 = float(input(\"Introduce un número\"))\n",
    "    n2 = float(input(\"Introduce un número\"))\n",
    "\n",
    "    div = n1/n2\n",
    "    print(f\"El resultado es: {div} \")\n",
    "\n",
    "except ZeroDivisionError:\n",
    "    print(\"No se puede dividir entre cero\")\n",
    "except ValueError:\n",
    "    print(\"Debes ingresar números válidos\")"
   ]
  },
  {
   "cell_type": "markdown",
   "metadata": {},
   "source": [
    "##### Ejercicio Practico 2: Escribe un programa que intente abrir un archivo que no existe y maneje el error mostrando un mensaje personalizado al usuarios"
   ]
  },
  {
   "cell_type": "code",
   "execution_count": null,
   "metadata": {},
   "outputs": [],
   "source": [
    "try:\n",
    "    with open('archivo_fake.txt', 'r') as file:\n",
    "        content = file.read()\n",
    "        print(content)\n",
    "except FileNotFoundError:\n",
    "    print(\"El archivo no existe. Por favor, verifica el nombre del archivo y vuelve a intentarlo.\")"
   ]
  }
 ],
 "metadata": {
  "language_info": {
   "name": "python"
  }
 },
 "nbformat": 4,
 "nbformat_minor": 2
}
